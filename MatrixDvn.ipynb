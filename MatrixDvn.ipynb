{
 "cells": [
  {
   "cell_type": "raw",
   "id": "5cd71c7f-97d1-4653-985c-29da7fa44a86",
   "metadata": {},
   "source": []
  },
  {
   "cell_type": "code",
   "execution_count": 1,
   "id": "a4ec82bd-2df7-4b52-b840-50eba5827391",
   "metadata": {},
   "outputs": [],
   "source": [
    "import numpy as np\n",
    "import numpy.linalg as la"
   ]
  },
  {
   "cell_type": "code",
   "execution_count": 3,
   "id": "3d14e306-1f6f-42cd-a03c-b2c7ad66e0eb",
   "metadata": {},
   "outputs": [
    {
     "name": "stdout",
     "output_type": "stream",
     "text": [
      "-2\n"
     ]
    }
   ],
   "source": [
    "# generate two 2x2 matrices A, B\n",
    "# so 1 & 2 are met; divisor is square and cols\n",
    "# verify that determinant is non-zero\n",
    "A = np.matrix([[1,2], [3,4]])\n",
    "B = np.matrix([[5,6], [7,8]])\n",
    "B_det = la.det(B)\n",
    "print(round(B_det,))"
   ]
  },
  {
   "cell_type": "code",
   "execution_count": 9,
   "id": "437125c3-4e5e-4cfa-bfe5-137cfa643100",
   "metadata": {},
   "outputs": [
    {
     "name": "stdout",
     "output_type": "stream",
     "text": [
      "[[-4.   3. ]\n",
      " [ 3.5 -2.5]]\n"
     ]
    }
   ],
   "source": [
    "# invert matrix B\n",
    "B_inv = la.inv(B)\n",
    "print(B_inv)"
   ]
  },
  {
   "cell_type": "code",
   "execution_count": 13,
   "id": "53557e7f-63c0-49a8-9247-56ce7813e2fd",
   "metadata": {},
   "outputs": [
    {
     "name": "stdout",
     "output_type": "stream",
     "text": [
      "[[1. 0.]\n",
      " [0. 1.]]\n"
     ]
    }
   ],
   "source": [
    "# for confirmation of inversion, B * B_Inv should give identity matrix I\n",
    "print(B @ B_inv)"
   ]
  },
  {
   "cell_type": "code",
   "execution_count": null,
   "id": "9c766a43-fad9-4813-a199-49c7706fc9a4",
   "metadata": {},
   "outputs": [],
   "source": []
  }
 ],
 "metadata": {
  "kernelspec": {
   "display_name": "Python 3 (ipykernel)",
   "language": "python",
   "name": "python3"
  },
  "language_info": {
   "codemirror_mode": {
    "name": "ipython",
    "version": 3
   },
   "file_extension": ".py",
   "mimetype": "text/x-python",
   "name": "python",
   "nbconvert_exporter": "python",
   "pygments_lexer": "ipython3",
   "version": "3.12.7"
  }
 },
 "nbformat": 4,
 "nbformat_minor": 5
}
