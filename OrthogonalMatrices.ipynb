{
 "cells": [
  {
   "cell_type": "code",
   "execution_count": 1,
   "id": "9009012d-1d17-4dd0-a9e3-427eab49032e",
   "metadata": {},
   "outputs": [],
   "source": [
    "import numpy as np\n",
    "import numpy.linalg as la"
   ]
  },
  {
   "cell_type": "code",
   "execution_count": 7,
   "id": "8b52320d-e1e1-492d-861e-88ae9cd6b5cf",
   "metadata": {},
   "outputs": [
    {
     "name": "stdout",
     "output_type": "stream",
     "text": [
      "Matrix A:\n",
      "[[ 0 -1]\n",
      " [ 1  0]]\n",
      "\n",
      "Inverse of A:\n",
      "[[ 0.  1.]\n",
      " [-1. -0.]]\n",
      "\n",
      "Transpose of A:\n",
      "[[ 0  1]\n",
      " [-1  0]]\n"
     ]
    }
   ],
   "source": [
    "# a pure rotation in R2 space gives an orthogonal matrix\n",
    "# note that this is a square matrix\n",
    "A = np.matrix([[00,-1],[1,0]])\n",
    "print(\"Matrix A:\")\n",
    "print(A)\n",
    "print(\"\\nInverse of A:\")\n",
    "print(la.inv(A))\n",
    "print(\"\\nTranspose of A:\")\n",
    "print(A.T)"
   ]
  },
  {
   "cell_type": "code",
   "execution_count": 9,
   "id": "cfba085f-9b96-4f4b-8eea-8d4a7dffe62d",
   "metadata": {},
   "outputs": [
    {
     "name": "stdout",
     "output_type": "stream",
     "text": [
      "A*AT and AT*A:\n",
      "[[1 0]\n",
      " [0 1]]\n",
      "[[1 0]\n",
      " [0 1]]\n",
      "\n",
      "A*AInv and AInv*A:\n",
      "[[1. 0.]\n",
      " [0. 1.]]\n",
      "[[1. 0.]\n",
      " [0. 1.]]\n"
     ]
    }
   ],
   "source": [
    "# now because this is square orthonormal...\n",
    "print(\"A*AT and AT*A:\")\n",
    "print(A*(A.T))\n",
    "print((A.T)*A)\n",
    "print(\"\\nA*AInv and AInv*A:\")\n",
    "print(A*(la.inv(A)))\n",
    "print((la.inv(A)*A))\n"
   ]
  },
  {
   "cell_type": "code",
   "execution_count": 13,
   "id": "692bfbfd-adb3-412a-94e9-de973dce4fdd",
   "metadata": {},
   "outputs": [
    {
     "name": "stdout",
     "output_type": "stream",
     "text": [
      "A:\n",
      "[[1 2]\n",
      " [3 4]]\n",
      "\n",
      "Now use QR Decomposition\n",
      "Q:\n",
      "[[-0.31622777 -0.9486833 ]\n",
      " [-0.9486833   0.31622777]]\n",
      "\n",
      "R:\n",
      "[[-3.16227766 -4.42718872]\n",
      " [ 0.         -0.63245553]]\n",
      "\n",
      "QR gives original:\n",
      "[[1. 2.]\n",
      " [3. 4.]]\n"
     ]
    }
   ],
   "source": [
    "# use qr decomposition A + QR\n",
    "A = np.matrix([[1,2],[3,4]])\n",
    "Q, R = la.qr(A)\n",
    "print(\"A:\")\n",
    "print(A)\n",
    "print(\"\\nNow use QR Decomposition\")\n",
    "print(\"Q:\")\n",
    "print(Q)\n",
    "print(\"\\nR:\")\n",
    "print(R)\n",
    "print(\"\\nQR gives original:\")\n",
    "print(Q*R)"
   ]
  },
  {
   "cell_type": "code",
   "execution_count": 34,
   "id": "cac6cde6-7258-48b5-99d1-916968c64a69",
   "metadata": {},
   "outputs": [
    {
     "name": "stdout",
     "output_type": "stream",
     "text": [
      "\n",
      "Dot product of Q1 with Q1\n",
      "1.0\n",
      "\n",
      "Dot product of Q2 with Q2\n",
      "1.0\n",
      "\n",
      "Magnitude of Q1\n",
      "1.0\n",
      "\n",
      "Magnitude of Q2\n",
      "1.0\n"
     ]
    }
   ],
   "source": [
    "print(\"\\nDot product of Q1 with Q1\")\n",
    "print(Q[0,0]*Q[0,0]+Q[1,0]*Q[1,0])\n",
    "print(\"\\nDot product of Q2 with Q2\")\n",
    "print(Q[0,1]*Q[0,1]+Q[1,1]*Q[1,1])\n",
    "print(\"\\nMagnitude of Q1\")\n",
    "print((Q[0,0]*Q[0,0]+Q[1,0]*Q[1,0])**.5)\n",
    "print(\"\\nMagnitude of Q2\")\n",
    "print((Q[0,1]*Q[0,1]+Q[1,1]*Q[1,1])**.5)"
   ]
  }
 ],
 "metadata": {
  "kernelspec": {
   "display_name": "Python 3 (ipykernel)",
   "language": "python",
   "name": "python3"
  },
  "language_info": {
   "codemirror_mode": {
    "name": "ipython",
    "version": 3
   },
   "file_extension": ".py",
   "mimetype": "text/x-python",
   "name": "python",
   "nbconvert_exporter": "python",
   "pygments_lexer": "ipython3",
   "version": "3.12.7"
  }
 },
 "nbformat": 4,
 "nbformat_minor": 5
}
