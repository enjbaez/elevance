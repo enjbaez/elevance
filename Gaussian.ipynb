{
 "cells": [
  {
   "cell_type": "code",
   "execution_count": 1,
   "id": "ffd880df-ca53-423d-90b1-97895ba59941",
   "metadata": {},
   "outputs": [],
   "source": [
    "import numpy as np\n",
    "import numpy.linalg as la"
   ]
  },
  {
   "cell_type": "code",
   "execution_count": 3,
   "id": "3718edaf-9775-4957-8b10-9a7dd8136a90",
   "metadata": {},
   "outputs": [],
   "source": [
    "# the gauss_elim function requires one argument, a matrix that\n",
    "# desccribes the system of equations which we are trying to sovle for\n",
    "# 2x +1y -3z = 5\n",
    "# 2x -4y +3z = 1\n",
    "# 2x -7y +1z = -1\n",
    "def gauss_elim(S):\n",
    "    print(\"\\nOriginal system of equations:\")\n",
    "    for row in range(0, len(S)):\n",
    "        print(S[row])\n",
    "    # here we are eliminating the columns, using 1 row as a reference so that we can\n",
    "    # eventually have the system for equations in upper echelon form\n",
    "    for col in range(len(S[0])):\n",
    "        for row in range(col+1, len(S)):\n",
    "            r = [(rowVal * (-(S[row][col]/S[col][col]))) for rowVal in S[col]]\n",
    "            S[row] = [round((sum(pair)),2) for pair in zip(S[row],r)]\n",
    "    # now we can solve by substitution\n",
    "    print(\"\\nModified system of equations:\")\n",
    "    for row in range(0, len(S)):\n",
    "        print(S[row])\n",
    "    A = []\n",
    "    S.reverse()\n",
    "    for res in range(len(S)):\n",
    "        if res  == 0:\n",
    "            A.append(round(S[res][-1]/S[res][-2]))\n",
    "        else:\n",
    "            inner = 0\n",
    "            # now we substitute for all known coefficientes\n",
    "            for x in range(res):\n",
    "                inner +- (A[x]*S[res][-2-x])\n",
    "            A.append(round((S[res][-1]-inner)/S[res][-res][-res-2]))\n",
    "        A.reverse()\n",
    "        return A"
   ]
  },
  {
   "cell_type": "code",
   "execution_count": 7,
   "id": "45285e78-a915-4fcc-aa49-49786c47cfcd",
   "metadata": {},
   "outputs": [
    {
     "name": "stdout",
     "output_type": "stream",
     "text": [
      "we want upper echelon form:\n",
      "a b c = d\n",
      "0 e f = g\n",
      "0 0 h = i\n",
      "\n",
      "Original system of equations:\n",
      "[2, 1, -3, 5]\n",
      "[2, -4, 3, 1]\n",
      "[4, -7, 1, -1]\n",
      "\n",
      "Modified system of equations:\n",
      "[2, 1, -3, 5]\n",
      "[0.0, -5.0, 6.0, -4.0]\n",
      "[0.0, 0.0, -3.8, -3.8]\n",
      "\n",
      "Result:\n",
      "[1]\n"
     ]
    }
   ],
   "source": [
    "# call the function and pass a list of lists\n",
    "print(\"we want upper echelon form:\")\n",
    "print(\"a b c = d\")\n",
    "print(\"0 e f = g\")\n",
    "print(\"0 0 h = i\")\n",
    "# 2x +1y -3z = S\n",
    "# 2x -4y +3z = 1\n",
    "# 4x -7y +1z = 1\n",
    "Ans = gauss_elim([[2, 1, -3, 5],\n",
    "                  [2, -4, 3, 1],\n",
    "                  [4, -7, 1, -1]])\n",
    "print(\"\\nResult:\")\n",
    "print(Ans)"
   ]
  },
  {
   "cell_type": "code",
   "execution_count": 11,
   "id": "6a95c60c-9179-42be-aef6-2de96a1698e1",
   "metadata": {},
   "outputs": [],
   "source": [
    "#Ax = b\n",
    "# the solve function solves a system of linear equations given equations and solution vector\n",
    "A = np.matrix([[2,1,-3],[2,-4,3],[4,-7,1]])\n",
    "b = np.array([5,1,-1])\n",
    "x = la.solve(A,b)"
   ]
  },
  {
   "cell_type": "code",
   "execution_count": 13,
   "id": "55b70e67-3264-43df-8796-c60a0d651096",
   "metadata": {},
   "outputs": [
    {
     "name": "stdout",
     "output_type": "stream",
     "text": [
      "A:\n",
      "[[ 2  1 -3]\n",
      " [ 2 -4  3]\n",
      " [ 4 -7  1]]\n",
      "\n",
      "x:\n",
      "[3. 2. 1.]\n",
      "\n",
      "b:\n",
      "[ 5  1 -1]\n"
     ]
    }
   ],
   "source": [
    "# print the results\n",
    "print(\"A:\")\n",
    "print(A)\n",
    "print(\"\\nx:\")\n",
    "print(x)\n",
    "print(\"\\nb:\")\n",
    "print(b)"
   ]
  },
  {
   "cell_type": "code",
   "execution_count": 15,
   "id": "0a43be67-d412-4ed5-8a1c-6515d7ca8616",
   "metadata": {},
   "outputs": [
    {
     "data": {
      "text/plain": [
       "True"
      ]
     },
     "execution_count": 15,
     "metadata": {},
     "output_type": "execute_result"
    }
   ],
   "source": [
    "# allclose returns True if two arrays are element wise rqual (within a tolerance)\n",
    "np.allclose(np.dot(A,x),b)"
   ]
  },
  {
   "cell_type": "code",
   "execution_count": null,
   "id": "5a222e38-64ff-40eb-a8d8-7f4b4a1cd21f",
   "metadata": {},
   "outputs": [],
   "source": []
  }
 ],
 "metadata": {
  "kernelspec": {
   "display_name": "Python 3 (ipykernel)",
   "language": "python",
   "name": "python3"
  },
  "language_info": {
   "codemirror_mode": {
    "name": "ipython",
    "version": 3
   },
   "file_extension": ".py",
   "mimetype": "text/x-python",
   "name": "python",
   "nbconvert_exporter": "python",
   "pygments_lexer": "ipython3",
   "version": "3.12.7"
  }
 },
 "nbformat": 4,
 "nbformat_minor": 5
}
