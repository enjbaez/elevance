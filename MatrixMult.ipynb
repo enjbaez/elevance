{
 "cells": [
  {
   "cell_type": "code",
   "execution_count": 1,
   "id": "afea7fa5-860a-4f8c-9243-3bf553caec12",
   "metadata": {},
   "outputs": [],
   "source": [
    "import numpy as np"
   ]
  },
  {
   "cell_type": "code",
   "execution_count": 5,
   "id": "d5c97e9e-564a-4597-9cf4-1d7d3cd4d711",
   "metadata": {},
   "outputs": [
    {
     "name": "stdout",
     "output_type": "stream",
     "text": [
      "[[19 22]\n",
      " [43 50]]\n"
     ]
    }
   ],
   "source": [
    "# generate two 2x2 matrices A, B\n",
    "# resultant C will have A rows and B cols\n",
    "# therefore C has 2 rows and 2 cols\n",
    "A = np.matrix([[1,2],[3,4]])\n",
    "B = np.matrix([[5,6,],[7,8]])\n",
    "C = A * B\n",
    "print(C)"
   ]
  },
  {
   "cell_type": "code",
   "execution_count": 11,
   "id": "60f0e2ed-32c4-48e1-91ce-09bd06559cf9",
   "metadata": {},
   "outputs": [
    {
     "name": "stdout",
     "output_type": "stream",
     "text": [
      "[[17]\n",
      " [39]]\n"
     ]
    }
   ],
   "source": [
    "# generate a 2x2 matrix A and a vector x\n",
    "# C will have A rows and x cols\n",
    "# therefore C has 2 rows and 1 cols\n",
    "A = np.matrix([[1,2],[3,4]])\n",
    "x = np.matrix([[5],[6]])\n",
    "C = A * x\n",
    "print(C)"
   ]
  },
  {
   "cell_type": "code",
   "execution_count": null,
   "id": "09b916f2-a9ff-4346-90cf-ed8c586451c5",
   "metadata": {},
   "outputs": [],
   "source": []
  }
 ],
 "metadata": {
  "kernelspec": {
   "display_name": "Python 3 (ipykernel)",
   "language": "python",
   "name": "python3"
  },
  "language_info": {
   "codemirror_mode": {
    "name": "ipython",
    "version": 3
   },
   "file_extension": ".py",
   "mimetype": "text/x-python",
   "name": "python",
   "nbconvert_exporter": "python",
   "pygments_lexer": "ipython3",
   "version": "3.12.7"
  }
 },
 "nbformat": 4,
 "nbformat_minor": 5
}
