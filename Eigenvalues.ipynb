{
 "cells": [
  {
   "cell_type": "code",
   "execution_count": 1,
   "id": "c304bfcb-1491-480f-83d9-bbeaf575dbf3",
   "metadata": {},
   "outputs": [],
   "source": [
    "import numpy as np\n",
    "import numpy.linalg as la"
   ]
  },
  {
   "cell_type": "code",
   "execution_count": 5,
   "id": "3db8c71f-977f-4dfc-b3f5-8bcfee599c58",
   "metadata": {},
   "outputs": [
    {
     "name": "stdout",
     "output_type": "stream",
     "text": [
      "Original matrix:\n",
      "[[4 3]\n",
      " [5 2]]\n",
      "\n",
      "Just the Eigen Values:\n",
      "[ 7. -1.]\n",
      "\n",
      "The Eigen Decomposition:\n",
      "The Eigen Values:\n",
      "[ 7. -1.]\n",
      "The Eigen Vectors:\n",
      "[[ 0.70710678 -0.51449576]\n",
      " [ 0.70710678  0.85749293]]\n"
     ]
    }
   ],
   "source": [
    "# generate a 2x2 matrix\n",
    "A = np.matrix([[4,3],[5,2]])\n",
    "\n",
    "# calculate the eigenvalues\n",
    "eigenvals = la.eigvals(A)\n",
    "eigval, eigvec = la.eig(A)\n",
    "\n",
    "# Let's look at our results and then verify by hand\n",
    "print(\"Original matrix:\")\n",
    "print(A)\n",
    "print(\"\\nJust the Eigen Values:\")\n",
    "print(eigenvals)\n",
    "print(\"\\nThe Eigen Decomposition:\")\n",
    "print(\"The Eigen Values:\")\n",
    "print(eigval)\n",
    "print(\"The Eigen Vectors:\")\n",
    "print(eigvec)"
   ]
  },
  {
   "cell_type": "code",
   "execution_count": 7,
   "id": "9de160e1-5d91-42a6-8da7-16eb399a4d61",
   "metadata": {},
   "outputs": [
    {
     "name": "stdout",
     "output_type": "stream",
     "text": [
      "Eigen Values:\n",
      "[ 7.30033132  2.81646992  0.06681848 -2.18361972]\n"
     ]
    }
   ],
   "source": [
    "# for 3x3 matrix, the determinant is a little more complicated\n",
    "# not so easy to calculate by hand... so a 4x4 is even more complicated\n",
    "\n",
    "# generate the eigenvalues\n",
    "A = np.matrix([[5,1,2,1],[2,1,4,3],[1,2,1,0],[1,2,2,1]])\n",
    "\n",
    "# calculate the eigenvalues\n",
    "eigenvals = la.eigvals(A)\n",
    "print(\"Eigen Values:\")\n",
    "print(eigenvals)"
   ]
  },
  {
   "cell_type": "code",
   "execution_count": null,
   "id": "ffd4ae05-35a8-424a-a4ce-208e7e772537",
   "metadata": {},
   "outputs": [],
   "source": []
  }
 ],
 "metadata": {
  "kernelspec": {
   "display_name": "Python 3 (ipykernel)",
   "language": "python",
   "name": "python3"
  },
  "language_info": {
   "codemirror_mode": {
    "name": "ipython",
    "version": 3
   },
   "file_extension": ".py",
   "mimetype": "text/x-python",
   "name": "python",
   "nbconvert_exporter": "python",
   "pygments_lexer": "ipython3",
   "version": "3.12.7"
  }
 },
 "nbformat": 4,
 "nbformat_minor": 5
}
