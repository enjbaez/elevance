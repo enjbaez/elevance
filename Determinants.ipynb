{
 "cells": [
  {
   "cell_type": "code",
   "execution_count": 1,
   "id": "605f944b-b793-46bc-a2c1-5ce0828d31ec",
   "metadata": {},
   "outputs": [],
   "source": [
    "import numpy as np\n",
    "import numpy.linalg as la"
   ]
  },
  {
   "cell_type": "code",
   "execution_count": 9,
   "id": "54cdf2cd-1495-4fe9-b4ce-0af144caabb0",
   "metadata": {},
   "outputs": [
    {
     "name": "stdout",
     "output_type": "stream",
     "text": [
      "-2\n"
     ]
    }
   ],
   "source": [
    "# generate a 2x2 matrix A and calculate determinant\n",
    "A = np.matrix([[1,2],[3,4]])\n",
    "print(round(la.det(A)))"
   ]
  },
  {
   "cell_type": "code",
   "execution_count": 13,
   "id": "cbc768da-835a-48ae-9e4d-d15801856794",
   "metadata": {},
   "outputs": [
    {
     "name": "stdout",
     "output_type": "stream",
     "text": [
      "22\n"
     ]
    }
   ],
   "source": [
    "# generate a 3x3 matrix A and calculate determinant\n",
    "A = np.matrix([[3,2,6],[4,2,6],[4,4,1]])\n",
    "print(round(la.det(A)))"
   ]
  },
  {
   "cell_type": "code",
   "execution_count": 15,
   "id": "48dc52d4-b518-4fff-9912-e1986b3d01e8",
   "metadata": {},
   "outputs": [
    {
     "name": "stdout",
     "output_type": "stream",
     "text": [
      "1.0\n",
      "0.0\n"
     ]
    }
   ],
   "source": [
    "print(la.det(np.eye(500)))\n",
    "print(la.det(np.eye(500) * 0.1))"
   ]
  },
  {
   "cell_type": "code",
   "execution_count": 17,
   "id": "9d26d94f-a8e6-4398-9354-ade3162e61c8",
   "metadata": {},
   "outputs": [
    {
     "name": "stdout",
     "output_type": "stream",
     "text": [
      "1.0 -1151.2925464970251\n",
      "0.0\n"
     ]
    }
   ],
   "source": [
    "# slogdet computes teh sing and natural logarithm of the determinant of an array\n",
    "# succeeds where set does not\n",
    "sign, logdet  = la.slogdet(np.eye(500) * 0.1)\n",
    "print(sign, logdet)\n",
    "print(sign * np.exp(logdet))"
   ]
  },
  {
   "cell_type": "code",
   "execution_count": null,
   "id": "ecdc51f7-4cd8-48d5-907a-f125d6408e02",
   "metadata": {},
   "outputs": [],
   "source": []
  }
 ],
 "metadata": {
  "kernelspec": {
   "display_name": "Python 3 (ipykernel)",
   "language": "python",
   "name": "python3"
  },
  "language_info": {
   "codemirror_mode": {
    "name": "ipython",
    "version": 3
   },
   "file_extension": ".py",
   "mimetype": "text/x-python",
   "name": "python",
   "nbconvert_exporter": "python",
   "pygments_lexer": "ipython3",
   "version": "3.12.7"
  }
 },
 "nbformat": 4,
 "nbformat_minor": 5
}
